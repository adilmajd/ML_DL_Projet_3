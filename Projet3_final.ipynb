{
  "metadata": {
    "kernelspec": {
      "display_name": "Python 3",
      "name": "python3"
    },
    "language_info": {
      "name": "python",
      "version": "3.10.14",
      "mimetype": "text/x-python",
      "codemirror_mode": {
        "name": "ipython",
        "version": 3
      },
      "pygments_lexer": "ipython3",
      "nbconvert_exporter": "python",
      "file_extension": ".py"
    },
    "kaggle": {
      "accelerator": "gpu",
      "dataSources": [
        {
          "sourceId": 4220930,
          "sourceType": "datasetVersion",
          "datasetId": 2487958
        }
      ],
      "dockerImageVersionId": 30762,
      "isInternetEnabled": true,
      "language": "python",
      "sourceType": "notebook",
      "isGpuEnabled": true
    },
    "colab": {
      "provenance": [],
      "machine_shape": "hm",
      "gpuType": "L4"
    },
    "accelerator": "GPU"
  },
  "nbformat_minor": 0,
  "nbformat": 4,
  "cells": [
    {
      "cell_type": "markdown",
      "source": [
        "ML DL\n",
        "Projet 3 -Audio detection-\n",
        "Master IT 2024 - 2025\n"
      ],
      "metadata": {
        "id": "NoDtV0VkGHUo"
      }
    },
    {
      "source": [
        "import kagglehub\n",
        "bigguyubuntu_quran_ayat_speech_to_text_path = kagglehub.dataset_download('bigguyubuntu/quran-ayat-speech-to-text')\n",
        "\n",
        "print('Data source import complete.')\n"
      ],
      "metadata": {
        "id": "2fj9QEvy5Xz_",
        "outputId": "746f9df6-add7-449d-b692-2d88168550d5",
        "colab": {
          "base_uri": "https://localhost:8080/"
        }
      },
      "cell_type": "code",
      "outputs": [
        {
          "output_type": "stream",
          "name": "stdout",
          "text": [
            "Downloading from https://www.kaggle.com/api/v1/datasets/download/bigguyubuntu/quran-ayat-speech-to-text?dataset_version_number=1...\n"
          ]
        },
        {
          "output_type": "stream",
          "name": "stderr",
          "text": [
            "100%|██████████| 39.1G/39.1G [31:33<00:00, 22.2MB/s]"
          ]
        },
        {
          "output_type": "stream",
          "name": "stdout",
          "text": [
            "Extracting files...\n"
          ]
        },
        {
          "output_type": "stream",
          "name": "stderr",
          "text": [
            "\n"
          ]
        },
        {
          "output_type": "stream",
          "name": "stdout",
          "text": [
            "Data source import complete.\n"
          ]
        }
      ],
      "execution_count": null
    },
    {
      "cell_type": "code",
      "source": [
        "!pip install pydub"
      ],
      "metadata": {
        "_uuid": "8f2839f25d086af736a60e9eeb907d3b93b6e0e5",
        "_cell_guid": "b1076dfc-b9ad-4769-8c92-a6c4dae69d19",
        "execution": {
          "iopub.status.busy": "2024-09-05T19:26:42.290628Z",
          "iopub.execute_input": "2024-09-05T19:26:42.291036Z",
          "iopub.status.idle": "2024-09-05T19:26:56.938848Z",
          "shell.execute_reply.started": "2024-09-05T19:26:42.290993Z",
          "shell.execute_reply": "2024-09-05T19:26:56.937727Z"
        },
        "trusted": true,
        "id": "qYP0doIw5X0G",
        "colab": {
          "base_uri": "https://localhost:8080/"
        },
        "outputId": "6de140d6-b255-48f1-ea3c-5543276dea50"
      },
      "execution_count": null,
      "outputs": [
        {
          "output_type": "stream",
          "name": "stdout",
          "text": [
            "Collecting pydub\n",
            "  Downloading pydub-0.25.1-py2.py3-none-any.whl.metadata (1.4 kB)\n",
            "Downloading pydub-0.25.1-py2.py3-none-any.whl (32 kB)\n",
            "Installing collected packages: pydub\n",
            "Successfully installed pydub-0.25.1\n"
          ]
        }
      ]
    },
    {
      "cell_type": "markdown",
      "source": [
        "## Read Dataset"
      ],
      "metadata": {
        "id": "oMxGStHL5X0I"
      }
    },
    {
      "cell_type": "code",
      "source": [
        "import os\n",
        "import joblib\n",
        "import torch\n",
        "import torchaudio\n",
        "import pandas as pd\n",
        "import numpy as np\n",
        "import librosa\n",
        "import matplotlib.pyplot as plt\n",
        "import seaborn as sns\n",
        "import torchaudio.transforms as T\n",
        "import tensorflow as tf\n",
        "\n",
        "from tqdm import tqdm\n",
        "from pydub import AudioSegment\n",
        "from skimage.transform import resize\n",
        "from sklearn.preprocessing import LabelEncoder\n",
        "from sklearn.model_selection import train_test_split\n",
        "from sklearn.naive_bayes import GaussianNB\n",
        "from sklearn.metrics import confusion_matrix, accuracy_score, recall_score, precision_score, ConfusionMatrixDisplay"
      ],
      "metadata": {
        "execution": {
          "iopub.status.busy": "2024-09-05T22:22:38.30229Z",
          "iopub.execute_input": "2024-09-05T22:22:38.303069Z",
          "iopub.status.idle": "2024-09-05T22:22:38.309436Z",
          "shell.execute_reply.started": "2024-09-05T22:22:38.303025Z",
          "shell.execute_reply": "2024-09-05T22:22:38.308557Z"
        },
        "trusted": true,
        "id": "xNDBS73w5X0N"
      },
      "execution_count": null,
      "outputs": []
    },
    {
      "cell_type": "code",
      "source": [
        "folders = [\n",
        "    (\"AbdulSamad_64kbps\", \"abdulsamad\"),\n",
        "    (\"Abdul_Basit_Murattal_64kbps\", \"abdulbasit\"),\n",
        "    (\"Abdullaah_3awwaad_Al-Juhaynee_128kbps\", \"abdallah_3waad\"),\n",
        "    (\"Abdullah_Basfar_32kbps\", \"abdallah_basfar\"),\n",
        "    (\"Abdurrahmaan_As-Sudais_64kbps\", \"sudais\"),\n",
        "    (\"Abu_Bakr_Ash-Shaatree_64kbps\", \"shatree\"),\n",
        "    (\"Alafasy_64kbps\", \"afasy\"),\n",
        "    (\"Ali_Jaber_64kbps\", \"ali_jaber\"),\n",
        "    (\"Ayman_Sowaid_64kbps\", \"ayman_sowaid\"),\n",
        "    (\"Banna_32kbps\", \"banna\"),\n",
        "    (\"Fares_Abbad_64kbps\", \"fares_abbad\"),\n",
        "    (\"Ghamadi_40kbps\", \"ghamadi\"),\n",
        "    (\"Hani_Rifai_192kbps\", \"hani_rifai\"),\n",
        "    (\"Hudhaify_64kbps\", \"hudhaify\"),\n",
        "    (\"Husary_64kbps\", \"husary\"),\n",
        "    (\"Ibrahim_Akhdar_32kbps\", \"ibrahim_akhdar\"),\n",
        "    (\"Maher_AlMuaiqly_64kbps\", \"maher_almuaiqly\"),\n",
        "    (\"Minshawy_Murattal_128kbps\", \"minshawy\"),\n",
        "    (\"Mohammad_al_Tablaway_64kbps\", \"tablawy\"),\n",
        "    (\"Mostafa_Ismail_128kbps\", \"mostafa_ismail\"),\n",
        "    (\"Muhammad_Ayyoub_64kbps\", \"mohammed_ayyoub\"),\n",
        "    (\"Muhammad_Jibreel_64kbps\", \"mohammed_jibreel\"),\n",
        "    (\"Muhsin_Al_Qasim_192kbps\", \"muhsin_alqasim\"),\n",
        "    (\"Saood_ash-Shuraym_64kbps\", \"soaad\"),\n",
        "    (\"Yaser_Salamah_128kbps\", \"yaser_salamah\"),\n",
        "    (\"Yasser_Ad-Dussary_128kbps\", \"yasser_addussary\"),\n",
        "]"
      ],
      "metadata": {
        "execution": {
          "iopub.status.busy": "2024-09-05T19:27:04.614849Z",
          "iopub.execute_input": "2024-09-05T19:27:04.615415Z",
          "iopub.status.idle": "2024-09-05T19:27:04.624027Z",
          "shell.execute_reply.started": "2024-09-05T19:27:04.615367Z",
          "shell.execute_reply": "2024-09-05T19:27:04.622957Z"
        },
        "trusted": true,
        "id": "x70JbvHf5X0R"
      },
      "execution_count": null,
      "outputs": []
    },
    {
      "cell_type": "code",
      "source": [
        "len(folders)"
      ],
      "metadata": {
        "execution": {
          "iopub.status.busy": "2024-09-05T19:27:04.62519Z",
          "iopub.execute_input": "2024-09-05T19:27:04.625521Z",
          "iopub.status.idle": "2024-09-05T19:27:04.638672Z",
          "shell.execute_reply.started": "2024-09-05T19:27:04.62546Z",
          "shell.execute_reply": "2024-09-05T19:27:04.637808Z"
        },
        "trusted": true,
        "id": "kmfUtZk95X0V",
        "colab": {
          "base_uri": "https://localhost:8080/"
        },
        "outputId": "4854ebe5-af70-47f9-dde3-9adbcbb1b1ac"
      },
      "execution_count": null,
      "outputs": [
        {
          "output_type": "execute_result",
          "data": {
            "text/plain": [
              "26"
            ]
          },
          "metadata": {},
          "execution_count": 5
        }
      ]
    },
    {
      "cell_type": "markdown",
      "source": [
        "## Extract Features"
      ],
      "metadata": {
        "id": "KGEDn8XF5X0Y"
      }
    },
    {
      "cell_type": "code",
      "source": [
        "X = []\n",
        "y = []"
      ],
      "metadata": {
        "execution": {
          "iopub.status.busy": "2024-09-05T19:27:04.640758Z",
          "iopub.execute_input": "2024-09-05T19:27:04.641594Z",
          "iopub.status.idle": "2024-09-05T19:27:04.64806Z",
          "shell.execute_reply.started": "2024-09-05T19:27:04.641549Z",
          "shell.execute_reply": "2024-09-05T19:27:04.647273Z"
        },
        "trusted": true,
        "id": "yyGI0UVV5X0a"
      },
      "execution_count": null,
      "outputs": []
    },
    {
      "cell_type": "code",
      "source": [
        "def extract_mfcc_features(file_path):\n",
        "    try:\n",
        "        waveform, sample_rate = torchaudio.load(file_path)\n",
        "        mfccs = torchaudio.compliance.kaldi.mfcc(waveform=waveform.cuda(), sample_frequency=sample_rate)\n",
        "        return mfccs.mean(dim=0).cpu().numpy()\n",
        "    except Exception as e:\n",
        "        print(f\"Error processing {file_path}: {e}\")\n",
        "        return None"
      ],
      "metadata": {
        "execution": {
          "iopub.status.busy": "2024-09-05T19:27:04.649157Z",
          "iopub.execute_input": "2024-09-05T19:27:04.649499Z",
          "iopub.status.idle": "2024-09-05T19:27:04.658813Z",
          "shell.execute_reply.started": "2024-09-05T19:27:04.649447Z",
          "shell.execute_reply": "2024-09-05T19:27:04.657873Z"
        },
        "trusted": true,
        "id": "jCJYFBlx5X0d"
      },
      "execution_count": null,
      "outputs": []
    },
    {
      "cell_type": "code",
      "source": [
        "print(f'Downloaded dataset path: {bigguyubuntu_quran_ayat_speech_to_text_path}')"
      ],
      "metadata": {
        "colab": {
          "base_uri": "https://localhost:8080/"
        },
        "id": "XJd8s4Tw88cj",
        "outputId": "9eea9786-b2fe-43ff-a32b-c819731731d7"
      },
      "execution_count": null,
      "outputs": [
        {
          "output_type": "stream",
          "name": "stdout",
          "text": [
            "Downloaded dataset path: /root/.cache/kagglehub/datasets/bigguyubuntu/quran-ayat-speech-to-text/versions/1\n"
          ]
        }
      ]
    },
    {
      "cell_type": "code",
      "source": [
        "for folder, reader in folders:\n",
        "    # Construct the full path by including the correct subdirectory structure\n",
        "    reader_folder_path = os.path.join(bigguyubuntu_quran_ayat_speech_to_text_path, 'Quran_Ayat_public', 'audio_data', folder)\n",
        "\n",
        "    # Check if the directory exists before listing its contents\n",
        "    if os.path.exists(reader_folder_path):\n",
        "        audio_list = os.listdir(reader_folder_path)\n",
        "        print(f'Processing {folder} ({len(audio_list)} fichiers)')\n",
        "\n",
        "        for audio in tqdm(audio_list):\n",
        "            audio_path = os.path.join(reader_folder_path, audio)\n",
        "            features = extract_mfcc_features(audio_path)\n",
        "\n",
        "            if features is not None:\n",
        "                X.append(features)\n",
        "                y.append(reader)\n",
        "    else:\n",
        "        print(f\"Warning: Directory not found: {reader_folder_path}\")"
      ],
      "metadata": {
        "colab": {
          "base_uri": "https://localhost:8080/"
        },
        "id": "u3BI_zcY9qfR",
        "outputId": "e1f6cc7d-41b9-414f-e417-5fdadeb40afb"
      },
      "execution_count": null,
      "outputs": [
        {
          "metadata": {
            "tags": null
          },
          "name": "stdout",
          "output_type": "stream",
          "text": [
            "Processing AbdulSamad_64kbps (6236 fichiers)\n"
          ]
        },
        {
          "output_type": "stream",
          "name": "stderr",
          "text": [
            "100%|██████████| 6236/6236 [06:07<00:00, 16.99it/s]\n"
          ]
        },
        {
          "output_type": "stream",
          "name": "stdout",
          "text": [
            "Processing Abdul_Basit_Murattal_64kbps (6236 fichiers)\n"
          ]
        },
        {
          "output_type": "stream",
          "name": "stderr",
          "text": [
            "100%|██████████| 6236/6236 [02:42<00:00, 38.43it/s]\n"
          ]
        },
        {
          "output_type": "stream",
          "name": "stdout",
          "text": [
            "Processing Abdullaah_3awwaad_Al-Juhaynee_128kbps (6236 fichiers)\n"
          ]
        },
        {
          "output_type": "stream",
          "name": "stderr",
          "text": [
            "100%|██████████| 6236/6236 [02:45<00:00, 37.72it/s]\n"
          ]
        },
        {
          "output_type": "stream",
          "name": "stdout",
          "text": [
            "Processing Abdullah_Basfar_32kbps (6236 fichiers)\n"
          ]
        },
        {
          "output_type": "stream",
          "name": "stderr",
          "text": [
            "100%|██████████| 6236/6236 [01:26<00:00, 71.93it/s]\n"
          ]
        },
        {
          "output_type": "stream",
          "name": "stdout",
          "text": [
            "Processing Abdurrahmaan_As-Sudais_64kbps (6236 fichiers)\n"
          ]
        },
        {
          "output_type": "stream",
          "name": "stderr",
          "text": [
            "100%|██████████| 6236/6236 [01:54<00:00, 54.26it/s]\n"
          ]
        },
        {
          "output_type": "stream",
          "name": "stdout",
          "text": [
            "Processing Abu_Bakr_Ash-Shaatree_64kbps (6236 fichiers)\n"
          ]
        },
        {
          "output_type": "stream",
          "name": "stderr",
          "text": [
            "100%|██████████| 6236/6236 [02:13<00:00, 46.71it/s]\n"
          ]
        },
        {
          "output_type": "stream",
          "name": "stdout",
          "text": [
            "Processing Alafasy_64kbps (6236 fichiers)\n"
          ]
        },
        {
          "output_type": "stream",
          "name": "stderr",
          "text": [
            "100%|██████████| 6236/6236 [02:34<00:00, 40.47it/s]\n"
          ]
        },
        {
          "output_type": "stream",
          "name": "stdout",
          "text": [
            "Processing Ali_Jaber_64kbps (6236 fichiers)\n"
          ]
        },
        {
          "output_type": "stream",
          "name": "stderr",
          "text": [
            "100%|██████████| 6236/6236 [02:07<00:00, 48.75it/s]\n"
          ]
        },
        {
          "output_type": "stream",
          "name": "stdout",
          "text": [
            "Processing Ayman_Sowaid_64kbps (6236 fichiers)\n"
          ]
        },
        {
          "output_type": "stream",
          "name": "stderr",
          "text": [
            "100%|██████████| 6236/6236 [03:24<00:00, 30.52it/s]\n"
          ]
        },
        {
          "output_type": "stream",
          "name": "stdout",
          "text": [
            "Processing Banna_32kbps (6236 fichiers)\n"
          ]
        },
        {
          "output_type": "stream",
          "name": "stderr",
          "text": [
            "100%|██████████| 6236/6236 [01:29<00:00, 69.97it/s]\n"
          ]
        },
        {
          "output_type": "stream",
          "name": "stdout",
          "text": [
            "Processing Fares_Abbad_64kbps (6236 fichiers)\n"
          ]
        },
        {
          "output_type": "stream",
          "name": "stderr",
          "text": [
            "100%|██████████| 6236/6236 [02:51<00:00, 36.39it/s]\n"
          ]
        },
        {
          "output_type": "stream",
          "name": "stdout",
          "text": [
            "Processing Ghamadi_40kbps (6236 fichiers)\n"
          ]
        },
        {
          "output_type": "stream",
          "name": "stderr",
          "text": [
            "100%|██████████| 6236/6236 [01:29<00:00, 70.05it/s]\n"
          ]
        },
        {
          "output_type": "stream",
          "name": "stdout",
          "text": [
            "Processing Hani_Rifai_192kbps (6236 fichiers)\n"
          ]
        },
        {
          "output_type": "stream",
          "name": "stderr",
          "text": [
            "100%|██████████| 6236/6236 [03:21<00:00, 30.94it/s]\n"
          ]
        },
        {
          "output_type": "stream",
          "name": "stdout",
          "text": [
            "Processing Hudhaify_64kbps (6236 fichiers)\n"
          ]
        },
        {
          "output_type": "stream",
          "name": "stderr",
          "text": [
            "100%|██████████| 6236/6236 [02:34<00:00, 40.42it/s]\n"
          ]
        },
        {
          "output_type": "stream",
          "name": "stdout",
          "text": [
            "Processing Husary_64kbps (6236 fichiers)\n"
          ]
        },
        {
          "output_type": "stream",
          "name": "stderr",
          "text": [
            "100%|██████████| 6236/6236 [03:27<00:00, 30.01it/s]\n"
          ]
        },
        {
          "output_type": "stream",
          "name": "stdout",
          "text": [
            "Processing Ibrahim_Akhdar_32kbps (6236 fichiers)\n"
          ]
        },
        {
          "output_type": "stream",
          "name": "stderr",
          "text": [
            "100%|██████████| 6236/6236 [01:31<00:00, 68.04it/s]\n"
          ]
        },
        {
          "output_type": "stream",
          "name": "stdout",
          "text": [
            "Processing Maher_AlMuaiqly_64kbps (6236 fichiers)\n"
          ]
        },
        {
          "output_type": "stream",
          "name": "stderr",
          "text": [
            "100%|██████████| 6236/6236 [01:49<00:00, 56.84it/s]\n"
          ]
        },
        {
          "output_type": "stream",
          "name": "stdout",
          "text": [
            "Processing Minshawy_Murattal_128kbps (6236 fichiers)\n"
          ]
        },
        {
          "output_type": "stream",
          "name": "stderr",
          "text": [
            "100%|██████████| 6236/6236 [03:33<00:00, 29.15it/s]\n"
          ]
        },
        {
          "output_type": "stream",
          "name": "stdout",
          "text": [
            "Processing Mohammad_al_Tablaway_64kbps (6235 fichiers)\n"
          ]
        },
        {
          "output_type": "stream",
          "name": "stderr",
          "text": [
            "100%|██████████| 6235/6235 [02:32<00:00, 40.87it/s]\n"
          ]
        },
        {
          "output_type": "stream",
          "name": "stdout",
          "text": [
            "Processing Mostafa_Ismail_128kbps (6236 fichiers)\n"
          ]
        },
        {
          "output_type": "stream",
          "name": "stderr",
          "text": [
            "100%|██████████| 6236/6236 [03:11<00:00, 32.63it/s]\n"
          ]
        },
        {
          "output_type": "stream",
          "name": "stdout",
          "text": [
            "Processing Muhammad_Ayyoub_64kbps (6234 fichiers)\n"
          ]
        },
        {
          "output_type": "stream",
          "name": "stderr",
          "text": [
            "100%|██████████| 6234/6234 [02:43<00:00, 38.17it/s]\n"
          ]
        },
        {
          "output_type": "stream",
          "name": "stdout",
          "text": [
            "Processing Muhammad_Jibreel_64kbps (6236 fichiers)\n"
          ]
        },
        {
          "output_type": "stream",
          "name": "stderr",
          "text": [
            "100%|██████████| 6236/6236 [02:15<00:00, 45.88it/s]\n"
          ]
        },
        {
          "output_type": "stream",
          "name": "stdout",
          "text": [
            "Processing Muhsin_Al_Qasim_192kbps (6236 fichiers)\n"
          ]
        },
        {
          "output_type": "stream",
          "name": "stderr",
          "text": [
            "100%|██████████| 6236/6236 [02:45<00:00, 37.72it/s]\n"
          ]
        },
        {
          "output_type": "stream",
          "name": "stdout",
          "text": [
            "Processing Saood_ash-Shuraym_64kbps (6236 fichiers)\n"
          ]
        },
        {
          "output_type": "stream",
          "name": "stderr",
          "text": [
            "100%|██████████| 6236/6236 [01:41<00:00, 61.66it/s]\n"
          ]
        },
        {
          "output_type": "stream",
          "name": "stdout",
          "text": [
            "Processing Yaser_Salamah_128kbps (6204 fichiers)\n"
          ]
        },
        {
          "output_type": "stream",
          "name": "stderr",
          "text": [
            "100%|██████████| 6204/6204 [03:08<00:00, 33.00it/s]\n"
          ]
        },
        {
          "output_type": "stream",
          "name": "stdout",
          "text": [
            "Processing Yasser_Ad-Dussary_128kbps (6236 fichiers)\n"
          ]
        },
        {
          "output_type": "stream",
          "name": "stderr",
          "text": [
            "100%|██████████| 6236/6236 [03:09<00:00, 32.96it/s]\n"
          ]
        }
      ]
    },
    {
      "cell_type": "code",
      "source": [
        "print(len(X), len(y))"
      ],
      "metadata": {
        "execution": {
          "iopub.status.busy": "2024-09-05T20:58:14.231368Z",
          "iopub.execute_input": "2024-09-05T20:58:14.2324Z",
          "iopub.status.idle": "2024-09-05T20:58:14.23773Z",
          "shell.execute_reply.started": "2024-09-05T20:58:14.232348Z",
          "shell.execute_reply": "2024-09-05T20:58:14.236884Z"
        },
        "trusted": true,
        "id": "hlxct_ux5X0i",
        "colab": {
          "base_uri": "https://localhost:8080/"
        },
        "outputId": "b0b26185-7cab-4eea-a5d1-33f31c6c9766"
      },
      "execution_count": null,
      "outputs": [
        {
          "output_type": "stream",
          "name": "stdout",
          "text": [
            "162101 162101\n"
          ]
        }
      ]
    },
    {
      "cell_type": "markdown",
      "source": [
        "### Save as pandas DF"
      ],
      "metadata": {
        "id": "T7XHrgI35X0j"
      }
    },
    {
      "cell_type": "code",
      "source": [
        "df = pd.DataFrame(\n",
        "    y,\n",
        "    columns=[\"Class\"]\n",
        ")"
      ],
      "metadata": {
        "execution": {
          "iopub.status.busy": "2024-09-05T20:58:17.351804Z",
          "iopub.execute_input": "2024-09-05T20:58:17.35244Z",
          "iopub.status.idle": "2024-09-05T20:58:17.364973Z",
          "shell.execute_reply.started": "2024-09-05T20:58:17.352398Z",
          "shell.execute_reply": "2024-09-05T20:58:17.364029Z"
        },
        "trusted": true,
        "id": "fnihcQ5g5X0j"
      },
      "execution_count": null,
      "outputs": []
    },
    {
      "cell_type": "code",
      "source": [
        "features_df = pd.DataFrame(X)\n",
        "df = pd.concat([df['Class'], features_df], axis=1)"
      ],
      "metadata": {
        "execution": {
          "iopub.status.busy": "2024-09-05T20:58:22.175164Z",
          "iopub.execute_input": "2024-09-05T20:58:22.175883Z",
          "iopub.status.idle": "2024-09-05T20:58:23.440315Z",
          "shell.execute_reply.started": "2024-09-05T20:58:22.175842Z",
          "shell.execute_reply": "2024-09-05T20:58:23.439348Z"
        },
        "trusted": true,
        "id": "oYr3cZtp5X0k"
      },
      "execution_count": null,
      "outputs": []
    },
    {
      "cell_type": "code",
      "source": [
        "df.head()"
      ],
      "metadata": {
        "execution": {
          "iopub.status.busy": "2024-09-05T20:58:27.081395Z",
          "iopub.execute_input": "2024-09-05T20:58:27.082366Z",
          "iopub.status.idle": "2024-09-05T20:58:27.109657Z",
          "shell.execute_reply.started": "2024-09-05T20:58:27.082325Z",
          "shell.execute_reply": "2024-09-05T20:58:27.1087Z"
        },
        "trusted": true,
        "id": "NHTjnx1w5X0k",
        "colab": {
          "base_uri": "https://localhost:8080/",
          "height": 226
        },
        "outputId": "2ce7b2e1-909c-4aa2-b9f4-daec3f4a225b"
      },
      "execution_count": null,
      "outputs": [
        {
          "output_type": "execute_result",
          "data": {
            "text/plain": [
              "        Class          0          1          2          3          4  \\\n",
              "0  abdulsamad -18.020639  19.120899 -71.996880  48.498222 -54.396507   \n",
              "1  abdulsamad -16.568369  19.347542 -71.439941  51.148735 -59.063435   \n",
              "2  abdulsamad -12.861549  27.008080 -71.368736  46.507347 -60.948681   \n",
              "3  abdulsamad -19.844347  19.432442 -67.854553  44.119602 -53.010902   \n",
              "4  abdulsamad -16.130190  19.921894 -77.283463  49.980156 -59.733593   \n",
              "\n",
              "           5          6          7          8          9        10         11  \\\n",
              "0  41.037891 -26.674059 -24.906404  33.288929 -42.214642 -9.683245 -35.587917   \n",
              "1  50.086010 -23.885296 -23.842672  31.205585 -39.813011 -1.794181 -35.441864   \n",
              "2  30.004642 -26.057545 -23.226192  33.532871 -36.001801 -1.250048 -25.841499   \n",
              "3  37.928493 -27.774044 -21.805658  27.421648 -32.047119 -1.608690 -35.705479   \n",
              "4  40.002346 -21.664104 -31.277723  35.202286 -39.017677 -7.554701 -36.969288   \n",
              "\n",
              "          12  \n",
              "0  13.058946  \n",
              "1  10.532916  \n",
              "2  16.419941  \n",
              "3  13.375690  \n",
              "4   7.713711  "
            ],
            "text/html": [
              "\n",
              "  <div id=\"df-e1a1a6ce-1d76-45fb-bad8-3516088647b0\" class=\"colab-df-container\">\n",
              "    <div>\n",
              "<style scoped>\n",
              "    .dataframe tbody tr th:only-of-type {\n",
              "        vertical-align: middle;\n",
              "    }\n",
              "\n",
              "    .dataframe tbody tr th {\n",
              "        vertical-align: top;\n",
              "    }\n",
              "\n",
              "    .dataframe thead th {\n",
              "        text-align: right;\n",
              "    }\n",
              "</style>\n",
              "<table border=\"1\" class=\"dataframe\">\n",
              "  <thead>\n",
              "    <tr style=\"text-align: right;\">\n",
              "      <th></th>\n",
              "      <th>Class</th>\n",
              "      <th>0</th>\n",
              "      <th>1</th>\n",
              "      <th>2</th>\n",
              "      <th>3</th>\n",
              "      <th>4</th>\n",
              "      <th>5</th>\n",
              "      <th>6</th>\n",
              "      <th>7</th>\n",
              "      <th>8</th>\n",
              "      <th>9</th>\n",
              "      <th>10</th>\n",
              "      <th>11</th>\n",
              "      <th>12</th>\n",
              "    </tr>\n",
              "  </thead>\n",
              "  <tbody>\n",
              "    <tr>\n",
              "      <th>0</th>\n",
              "      <td>abdulsamad</td>\n",
              "      <td>-18.020639</td>\n",
              "      <td>19.120899</td>\n",
              "      <td>-71.996880</td>\n",
              "      <td>48.498222</td>\n",
              "      <td>-54.396507</td>\n",
              "      <td>41.037891</td>\n",
              "      <td>-26.674059</td>\n",
              "      <td>-24.906404</td>\n",
              "      <td>33.288929</td>\n",
              "      <td>-42.214642</td>\n",
              "      <td>-9.683245</td>\n",
              "      <td>-35.587917</td>\n",
              "      <td>13.058946</td>\n",
              "    </tr>\n",
              "    <tr>\n",
              "      <th>1</th>\n",
              "      <td>abdulsamad</td>\n",
              "      <td>-16.568369</td>\n",
              "      <td>19.347542</td>\n",
              "      <td>-71.439941</td>\n",
              "      <td>51.148735</td>\n",
              "      <td>-59.063435</td>\n",
              "      <td>50.086010</td>\n",
              "      <td>-23.885296</td>\n",
              "      <td>-23.842672</td>\n",
              "      <td>31.205585</td>\n",
              "      <td>-39.813011</td>\n",
              "      <td>-1.794181</td>\n",
              "      <td>-35.441864</td>\n",
              "      <td>10.532916</td>\n",
              "    </tr>\n",
              "    <tr>\n",
              "      <th>2</th>\n",
              "      <td>abdulsamad</td>\n",
              "      <td>-12.861549</td>\n",
              "      <td>27.008080</td>\n",
              "      <td>-71.368736</td>\n",
              "      <td>46.507347</td>\n",
              "      <td>-60.948681</td>\n",
              "      <td>30.004642</td>\n",
              "      <td>-26.057545</td>\n",
              "      <td>-23.226192</td>\n",
              "      <td>33.532871</td>\n",
              "      <td>-36.001801</td>\n",
              "      <td>-1.250048</td>\n",
              "      <td>-25.841499</td>\n",
              "      <td>16.419941</td>\n",
              "    </tr>\n",
              "    <tr>\n",
              "      <th>3</th>\n",
              "      <td>abdulsamad</td>\n",
              "      <td>-19.844347</td>\n",
              "      <td>19.432442</td>\n",
              "      <td>-67.854553</td>\n",
              "      <td>44.119602</td>\n",
              "      <td>-53.010902</td>\n",
              "      <td>37.928493</td>\n",
              "      <td>-27.774044</td>\n",
              "      <td>-21.805658</td>\n",
              "      <td>27.421648</td>\n",
              "      <td>-32.047119</td>\n",
              "      <td>-1.608690</td>\n",
              "      <td>-35.705479</td>\n",
              "      <td>13.375690</td>\n",
              "    </tr>\n",
              "    <tr>\n",
              "      <th>4</th>\n",
              "      <td>abdulsamad</td>\n",
              "      <td>-16.130190</td>\n",
              "      <td>19.921894</td>\n",
              "      <td>-77.283463</td>\n",
              "      <td>49.980156</td>\n",
              "      <td>-59.733593</td>\n",
              "      <td>40.002346</td>\n",
              "      <td>-21.664104</td>\n",
              "      <td>-31.277723</td>\n",
              "      <td>35.202286</td>\n",
              "      <td>-39.017677</td>\n",
              "      <td>-7.554701</td>\n",
              "      <td>-36.969288</td>\n",
              "      <td>7.713711</td>\n",
              "    </tr>\n",
              "  </tbody>\n",
              "</table>\n",
              "</div>\n",
              "    <div class=\"colab-df-buttons\">\n",
              "\n",
              "  <div class=\"colab-df-container\">\n",
              "    <button class=\"colab-df-convert\" onclick=\"convertToInteractive('df-e1a1a6ce-1d76-45fb-bad8-3516088647b0')\"\n",
              "            title=\"Convert this dataframe to an interactive table.\"\n",
              "            style=\"display:none;\">\n",
              "\n",
              "  <svg xmlns=\"http://www.w3.org/2000/svg\" height=\"24px\" viewBox=\"0 -960 960 960\">\n",
              "    <path d=\"M120-120v-720h720v720H120Zm60-500h600v-160H180v160Zm220 220h160v-160H400v160Zm0 220h160v-160H400v160ZM180-400h160v-160H180v160Zm440 0h160v-160H620v160ZM180-180h160v-160H180v160Zm440 0h160v-160H620v160Z\"/>\n",
              "  </svg>\n",
              "    </button>\n",
              "\n",
              "  <style>\n",
              "    .colab-df-container {\n",
              "      display:flex;\n",
              "      gap: 12px;\n",
              "    }\n",
              "\n",
              "    .colab-df-convert {\n",
              "      background-color: #E8F0FE;\n",
              "      border: none;\n",
              "      border-radius: 50%;\n",
              "      cursor: pointer;\n",
              "      display: none;\n",
              "      fill: #1967D2;\n",
              "      height: 32px;\n",
              "      padding: 0 0 0 0;\n",
              "      width: 32px;\n",
              "    }\n",
              "\n",
              "    .colab-df-convert:hover {\n",
              "      background-color: #E2EBFA;\n",
              "      box-shadow: 0px 1px 2px rgba(60, 64, 67, 0.3), 0px 1px 3px 1px rgba(60, 64, 67, 0.15);\n",
              "      fill: #174EA6;\n",
              "    }\n",
              "\n",
              "    .colab-df-buttons div {\n",
              "      margin-bottom: 4px;\n",
              "    }\n",
              "\n",
              "    [theme=dark] .colab-df-convert {\n",
              "      background-color: #3B4455;\n",
              "      fill: #D2E3FC;\n",
              "    }\n",
              "\n",
              "    [theme=dark] .colab-df-convert:hover {\n",
              "      background-color: #434B5C;\n",
              "      box-shadow: 0px 1px 3px 1px rgba(0, 0, 0, 0.15);\n",
              "      filter: drop-shadow(0px 1px 2px rgba(0, 0, 0, 0.3));\n",
              "      fill: #FFFFFF;\n",
              "    }\n",
              "  </style>\n",
              "\n",
              "    <script>\n",
              "      const buttonEl =\n",
              "        document.querySelector('#df-e1a1a6ce-1d76-45fb-bad8-3516088647b0 button.colab-df-convert');\n",
              "      buttonEl.style.display =\n",
              "        google.colab.kernel.accessAllowed ? 'block' : 'none';\n",
              "\n",
              "      async function convertToInteractive(key) {\n",
              "        const element = document.querySelector('#df-e1a1a6ce-1d76-45fb-bad8-3516088647b0');\n",
              "        const dataTable =\n",
              "          await google.colab.kernel.invokeFunction('convertToInteractive',\n",
              "                                                    [key], {});\n",
              "        if (!dataTable) return;\n",
              "\n",
              "        const docLinkHtml = 'Like what you see? Visit the ' +\n",
              "          '<a target=\"_blank\" href=https://colab.research.google.com/notebooks/data_table.ipynb>data table notebook</a>'\n",
              "          + ' to learn more about interactive tables.';\n",
              "        element.innerHTML = '';\n",
              "        dataTable['output_type'] = 'display_data';\n",
              "        await google.colab.output.renderOutput(dataTable, element);\n",
              "        const docLink = document.createElement('div');\n",
              "        docLink.innerHTML = docLinkHtml;\n",
              "        element.appendChild(docLink);\n",
              "      }\n",
              "    </script>\n",
              "  </div>\n",
              "\n",
              "\n",
              "    <div id=\"df-c3a2024f-52a1-4069-ad5d-f32651a9f3af\">\n",
              "      <button class=\"colab-df-quickchart\" onclick=\"quickchart('df-c3a2024f-52a1-4069-ad5d-f32651a9f3af')\"\n",
              "                title=\"Suggest charts\"\n",
              "                style=\"display:none;\">\n",
              "\n",
              "<svg xmlns=\"http://www.w3.org/2000/svg\" height=\"24px\"viewBox=\"0 0 24 24\"\n",
              "     width=\"24px\">\n",
              "    <g>\n",
              "        <path d=\"M19 3H5c-1.1 0-2 .9-2 2v14c0 1.1.9 2 2 2h14c1.1 0 2-.9 2-2V5c0-1.1-.9-2-2-2zM9 17H7v-7h2v7zm4 0h-2V7h2v10zm4 0h-2v-4h2v4z\"/>\n",
              "    </g>\n",
              "</svg>\n",
              "      </button>\n",
              "\n",
              "<style>\n",
              "  .colab-df-quickchart {\n",
              "      --bg-color: #E8F0FE;\n",
              "      --fill-color: #1967D2;\n",
              "      --hover-bg-color: #E2EBFA;\n",
              "      --hover-fill-color: #174EA6;\n",
              "      --disabled-fill-color: #AAA;\n",
              "      --disabled-bg-color: #DDD;\n",
              "  }\n",
              "\n",
              "  [theme=dark] .colab-df-quickchart {\n",
              "      --bg-color: #3B4455;\n",
              "      --fill-color: #D2E3FC;\n",
              "      --hover-bg-color: #434B5C;\n",
              "      --hover-fill-color: #FFFFFF;\n",
              "      --disabled-bg-color: #3B4455;\n",
              "      --disabled-fill-color: #666;\n",
              "  }\n",
              "\n",
              "  .colab-df-quickchart {\n",
              "    background-color: var(--bg-color);\n",
              "    border: none;\n",
              "    border-radius: 50%;\n",
              "    cursor: pointer;\n",
              "    display: none;\n",
              "    fill: var(--fill-color);\n",
              "    height: 32px;\n",
              "    padding: 0;\n",
              "    width: 32px;\n",
              "  }\n",
              "\n",
              "  .colab-df-quickchart:hover {\n",
              "    background-color: var(--hover-bg-color);\n",
              "    box-shadow: 0 1px 2px rgba(60, 64, 67, 0.3), 0 1px 3px 1px rgba(60, 64, 67, 0.15);\n",
              "    fill: var(--button-hover-fill-color);\n",
              "  }\n",
              "\n",
              "  .colab-df-quickchart-complete:disabled,\n",
              "  .colab-df-quickchart-complete:disabled:hover {\n",
              "    background-color: var(--disabled-bg-color);\n",
              "    fill: var(--disabled-fill-color);\n",
              "    box-shadow: none;\n",
              "  }\n",
              "\n",
              "  .colab-df-spinner {\n",
              "    border: 2px solid var(--fill-color);\n",
              "    border-color: transparent;\n",
              "    border-bottom-color: var(--fill-color);\n",
              "    animation:\n",
              "      spin 1s steps(1) infinite;\n",
              "  }\n",
              "\n",
              "  @keyframes spin {\n",
              "    0% {\n",
              "      border-color: transparent;\n",
              "      border-bottom-color: var(--fill-color);\n",
              "      border-left-color: var(--fill-color);\n",
              "    }\n",
              "    20% {\n",
              "      border-color: transparent;\n",
              "      border-left-color: var(--fill-color);\n",
              "      border-top-color: var(--fill-color);\n",
              "    }\n",
              "    30% {\n",
              "      border-color: transparent;\n",
              "      border-left-color: var(--fill-color);\n",
              "      border-top-color: var(--fill-color);\n",
              "      border-right-color: var(--fill-color);\n",
              "    }\n",
              "    40% {\n",
              "      border-color: transparent;\n",
              "      border-right-color: var(--fill-color);\n",
              "      border-top-color: var(--fill-color);\n",
              "    }\n",
              "    60% {\n",
              "      border-color: transparent;\n",
              "      border-right-color: var(--fill-color);\n",
              "    }\n",
              "    80% {\n",
              "      border-color: transparent;\n",
              "      border-right-color: var(--fill-color);\n",
              "      border-bottom-color: var(--fill-color);\n",
              "    }\n",
              "    90% {\n",
              "      border-color: transparent;\n",
              "      border-bottom-color: var(--fill-color);\n",
              "    }\n",
              "  }\n",
              "</style>\n",
              "\n",
              "      <script>\n",
              "        async function quickchart(key) {\n",
              "          const quickchartButtonEl =\n",
              "            document.querySelector('#' + key + ' button');\n",
              "          quickchartButtonEl.disabled = true;  // To prevent multiple clicks.\n",
              "          quickchartButtonEl.classList.add('colab-df-spinner');\n",
              "          try {\n",
              "            const charts = await google.colab.kernel.invokeFunction(\n",
              "                'suggestCharts', [key], {});\n",
              "          } catch (error) {\n",
              "            console.error('Error during call to suggestCharts:', error);\n",
              "          }\n",
              "          quickchartButtonEl.classList.remove('colab-df-spinner');\n",
              "          quickchartButtonEl.classList.add('colab-df-quickchart-complete');\n",
              "        }\n",
              "        (() => {\n",
              "          let quickchartButtonEl =\n",
              "            document.querySelector('#df-c3a2024f-52a1-4069-ad5d-f32651a9f3af button');\n",
              "          quickchartButtonEl.style.display =\n",
              "            google.colab.kernel.accessAllowed ? 'block' : 'none';\n",
              "        })();\n",
              "      </script>\n",
              "    </div>\n",
              "\n",
              "    </div>\n",
              "  </div>\n"
            ],
            "application/vnd.google.colaboratory.intrinsic+json": {
              "type": "dataframe",
              "variable_name": "df"
            }
          },
          "metadata": {},
          "execution_count": 13
        }
      ]
    },
    {
      "cell_type": "markdown",
      "source": [
        "### Save DF"
      ],
      "metadata": {
        "id": "qQ5CpUak5X0l"
      }
    },
    {
      "cell_type": "code",
      "source": [
        "df.to_csv('./quran-readers-audio-processed.csv')"
      ],
      "metadata": {
        "execution": {
          "iopub.status.busy": "2024-09-05T20:59:46.238613Z",
          "iopub.execute_input": "2024-09-05T20:59:46.239513Z",
          "iopub.status.idle": "2024-09-05T20:59:49.128205Z",
          "shell.execute_reply.started": "2024-09-05T20:59:46.23946Z",
          "shell.execute_reply": "2024-09-05T20:59:49.127178Z"
        },
        "trusted": true,
        "id": "Daex-5PF5X0l"
      },
      "execution_count": null,
      "outputs": []
    },
    {
      "cell_type": "markdown",
      "source": [
        "### Label Encoder"
      ],
      "metadata": {
        "id": "oM4YKw7U5X0m"
      }
    },
    {
      "cell_type": "code",
      "source": [
        "le = LabelEncoder()"
      ],
      "metadata": {
        "execution": {
          "iopub.status.busy": "2024-09-05T21:02:11.786234Z",
          "iopub.execute_input": "2024-09-05T21:02:11.78666Z",
          "iopub.status.idle": "2024-09-05T21:02:11.790998Z",
          "shell.execute_reply.started": "2024-09-05T21:02:11.786621Z",
          "shell.execute_reply": "2024-09-05T21:02:11.790036Z"
        },
        "trusted": true,
        "id": "CBIpD6bl5X0m"
      },
      "execution_count": null,
      "outputs": []
    },
    {
      "cell_type": "code",
      "source": [
        "y_transformed = le.fit_transform(y)"
      ],
      "metadata": {
        "execution": {
          "iopub.status.busy": "2024-09-05T21:02:12.275722Z",
          "iopub.execute_input": "2024-09-05T21:02:12.276494Z",
          "iopub.status.idle": "2024-09-05T21:02:12.369861Z",
          "shell.execute_reply.started": "2024-09-05T21:02:12.27644Z",
          "shell.execute_reply": "2024-09-05T21:02:12.368994Z"
        },
        "trusted": true,
        "id": "xJFJEVKU5X0m"
      },
      "execution_count": null,
      "outputs": []
    },
    {
      "cell_type": "code",
      "source": [
        "y_transformed"
      ],
      "metadata": {
        "execution": {
          "iopub.status.busy": "2024-09-05T21:02:12.888303Z",
          "iopub.execute_input": "2024-09-05T21:02:12.889256Z",
          "iopub.status.idle": "2024-09-05T21:02:12.895433Z",
          "shell.execute_reply.started": "2024-09-05T21:02:12.889216Z",
          "shell.execute_reply": "2024-09-05T21:02:12.894519Z"
        },
        "trusted": true,
        "id": "3qSh2axI5X0o",
        "colab": {
          "base_uri": "https://localhost:8080/"
        },
        "outputId": "2e67513f-ed23-49f5-8b6e-46a1d13f2a67"
      },
      "execution_count": null,
      "outputs": [
        {
          "output_type": "execute_result",
          "data": {
            "text/plain": [
              "array([ 3,  3,  3, ..., 25, 25, 25])"
            ]
          },
          "metadata": {},
          "execution_count": 17
        }
      ]
    },
    {
      "cell_type": "markdown",
      "source": [
        "## Implement Gaussian Naive Bayes Classifier using TensorFlow"
      ],
      "metadata": {
        "id": "MUilUsM65X0o"
      }
    },
    {
      "cell_type": "markdown",
      "source": [
        "Given set of features $x_1, x_2,\\dots, x_{13}$ as $X_i$,\n",
        "and set of classes $c_1, c_2,\\dots, c_{26}$ as $C_k$ We want to build a model that find the value of $P(C_k\\mid X_i)$. Then taking the class with maximum probability to find the best estimated class.\n",
        "\n",
        "$P(C_k\\mid X_i) = \\frac{P(X_i\\mid C_k)\\cdot P(C_k)}{P(X_i)}$\n",
        "\n",
        "By definition of conditional probability, the numerator is just the joint probability distribution $P(X_i\\mid C_k)\\cdot P(C_k)$, and can be factored using the chain rule:\n",
        "\n",
        "$P(C_k, X_i) = P(x_1|x_2,\\dots,x_{13},C_k)\\cdot{P(x_2|x_3,\\dots,x_{13},C_k)\\cdot{P(x_i\\mid{C_k})\\cdot{P(C_k)}}}$\n",
        "\n",
        "For simplicity, we can assume that each feature depends only on the class:\n",
        "\n",
        "$P(C_k, X_i) = P(x_1,\\mid{C_k})\\cdot{P(x_2,\\mid{C_k})\\cdot{P(x_i,\\mid{C_k})\\cdot{P(C_k)}}}$\n",
        "\n",
        "we omitted the denominator since it is the same across all classes, i.e., acts merely as a scaling factor:\n",
        "\n",
        "$P(C_k\\mid X_i) = P(X_i\\mid C_k)\\cdot P(C_k)$\n",
        "\n",
        "$Y_{predicted} = \\arg\\max P(X_i\\mid C_k)\\cdot P(C_k)$\n",
        "\n",
        "The estimation of $P(C_k)$ is straightforward, we just compute each class’s relative frequency in the training set:\n",
        "\n",
        "$P(C_k) = \\frac{\\text{number samples of class } C_k}{\\text{total number of samples}}$\n",
        "\n",
        "We can remove $P(C_k)$ out of $\\arg\\max$ since it doesn't depend on $X_i$:\n",
        "\n",
        "$Y_{predicted} = P(C_k)\\cdot\\arg\\max \\prod^{n}_{i=1}{P(X_i\\mid C_k)}$\n",
        "\n",
        "Taking $\\log$ to avoid underflow problems:\n",
        "\n",
        "$Y_{predicted} = \\log{(P(C_k)\\cdot\\arg\\max \\prod^{n}_{i=1}{P(X_i\\mid C_k)})}$\n",
        "\n",
        "$Y_{predicted} = \\arg\\max{(\\sum^{n}_{i=1}{\\log{P(X_i\\mid C_k)}})} + \\log{P(C_k)}$\n",
        "\n",
        "Assuming that $P(X_i\\mid{C_k})$ comes from an iid Gaussian Distribution\n",
        "\n",
        "$P(X_i\\mid{C_k}) = \\frac{1}{\\sqrt{2 \\pi \\sigma_k^2}} \\exp\\left(-\\frac{(X_i - \\mu_k)^2}{2\\sigma_k^2}\\right)$\n",
        "\n",
        "$Y_{\\text{predicted}} = \\arg\\max \\left( \\sum_{i=1}^{n} \\log \\left( \\frac{1}{\\sqrt{2 \\pi \\sigma_k^2}} \\exp\\left(-\\frac{(X_i - \\mu_k)^2}{2\\sigma_k^2}\\right) \\right) \\right) + \\log P(C_k)\n",
        "$\n",
        "\n",
        "Finally :\n",
        "\n",
        "$\\mu_k = \\frac{1}{n} \\sum_{i=1}^{n} X_i$\n",
        "\n",
        "$\\sigma_k^2 = \\frac{1}{n} \\sum_{i=1}^{n} (X_i - \\mu_k)^2$"
      ],
      "metadata": {
        "id": "eZmkolJT5X0p"
      }
    },
    {
      "cell_type": "code",
      "source": [
        "tf.config.run_functions_eagerly(True)"
      ],
      "metadata": {
        "execution": {
          "iopub.status.busy": "2024-09-05T22:21:49.100984Z",
          "iopub.execute_input": "2024-09-05T22:21:49.101894Z",
          "iopub.status.idle": "2024-09-05T22:21:49.106292Z",
          "shell.execute_reply.started": "2024-09-05T22:21:49.101851Z",
          "shell.execute_reply": "2024-09-05T22:21:49.1052Z"
        },
        "trusted": true,
        "id": "jMMgeQcu5X0q"
      },
      "execution_count": null,
      "outputs": []
    },
    {
      "cell_type": "code",
      "source": [
        "class GaussianNaiveBayes(tf.Module):\n",
        "    def __init__(self):\n",
        "        super().__init__()\n",
        "\n",
        "        self.classes = None\n",
        "        self.mean = None\n",
        "        self.var = None\n",
        "        self.prior = None\n",
        "\n",
        "    @tf.function(input_signature=[tf.TensorSpec(shape=[None, None], dtype=tf.float32), tf.TensorSpec(shape=[None], dtype=tf.int64)])\n",
        "    def fit(self, X, y):\n",
        "        X = X.numpy()\n",
        "        y = y.numpy()\n",
        "\n",
        "        self.classes = np.unique(y)\n",
        "\n",
        "        self.mean = np.zeros((len(self.classes), X.shape[1]), dtype=np.float32)\n",
        "        self.var = np.zeros((len(self.classes), X.shape[1]), dtype=np.float32)\n",
        "        self.prior = np.zeros(len(self.classes), dtype=np.float32)\n",
        "\n",
        "        for idx, c in enumerate(self.classes):\n",
        "            X_c = X[y == c]\n",
        "            self.mean[idx, :] = np.mean(X_c, axis=0)\n",
        "            self.var[idx, :] = np.var(X_c, axis=0)\n",
        "            self.prior[idx] = X_c.shape[0] / float(X.shape[0])\n",
        "\n",
        "    @tf.function(input_signature=[tf.TensorSpec(shape=[None, None], dtype=tf.float32)])\n",
        "    def predict(self, X):\n",
        "        def _calculate_likelihood(class_idx, X):\n",
        "            mean = self.mean[class_idx]\n",
        "            var = self.var[class_idx]\n",
        "            numerator = tf.exp(-(X - mean) ** 2 / (2 * var))\n",
        "            denominator = tf.sqrt(2 * np.pi * var)\n",
        "            return numerator / denominator\n",
        "\n",
        "        def _calculate_posterior(X):\n",
        "            posteriors = []\n",
        "            for idx in range(len(self.classes)):\n",
        "                prior = tf.math.log(self.prior[idx])\n",
        "                likelihood = tf.reduce_sum(tf.math.log(_calculate_likelihood(idx, X)), axis=1)\n",
        "                posterior = prior + likelihood\n",
        "                posteriors.append(posterior)\n",
        "            return tf.transpose(tf.convert_to_tensor(posteriors))\n",
        "\n",
        "        posteriors = _calculate_posterior(X)\n",
        "        predictions = tf.argmax(posteriors, axis=1)\n",
        "        return predictions"
      ],
      "metadata": {
        "execution": {
          "iopub.status.busy": "2024-09-05T22:21:49.854387Z",
          "iopub.execute_input": "2024-09-05T22:21:49.855271Z",
          "iopub.status.idle": "2024-09-05T22:21:49.8707Z",
          "shell.execute_reply.started": "2024-09-05T22:21:49.855231Z",
          "shell.execute_reply": "2024-09-05T22:21:49.869653Z"
        },
        "trusted": true,
        "id": "H_YR11WM5X0r"
      },
      "execution_count": null,
      "outputs": []
    },
    {
      "cell_type": "code",
      "source": [
        "gnb = GaussianNaiveBayes()"
      ],
      "metadata": {
        "execution": {
          "iopub.status.busy": "2024-09-05T22:21:50.195266Z",
          "iopub.execute_input": "2024-09-05T22:21:50.196267Z",
          "iopub.status.idle": "2024-09-05T22:21:50.200939Z",
          "shell.execute_reply.started": "2024-09-05T22:21:50.196211Z",
          "shell.execute_reply": "2024-09-05T22:21:50.200029Z"
        },
        "trusted": true,
        "id": "Q1qXQYAZ5X0u"
      },
      "execution_count": null,
      "outputs": []
    },
    {
      "cell_type": "code",
      "source": [
        "# Split the data into training and testing sets\n",
        "X_train, X_test, y_train, y_test = train_test_split(X, y_transformed, test_size=0.2, random_state=42)\n",
        "\n",
        "# Fit the Gaussian Naive Bayes model using the training data\n",
        "gnb.fit(tf.convert_to_tensor(X_train), tf.convert_to_tensor(y_train))"
      ],
      "metadata": {
        "id": "gG30zcQhNg-P"
      },
      "execution_count": null,
      "outputs": []
    },
    {
      "cell_type": "code",
      "source": [
        "gnb.fit(tf.convert_to_tensor(X_train), tf.convert_to_tensor(y_train))"
      ],
      "metadata": {
        "execution": {
          "iopub.status.busy": "2024-09-05T22:21:50.412418Z",
          "iopub.execute_input": "2024-09-05T22:21:50.412806Z",
          "iopub.status.idle": "2024-09-05T22:21:51.058134Z",
          "shell.execute_reply.started": "2024-09-05T22:21:50.412771Z",
          "shell.execute_reply": "2024-09-05T22:21:51.057316Z"
        },
        "trusted": true,
        "id": "2jvN3maT5X05"
      },
      "execution_count": null,
      "outputs": []
    },
    {
      "cell_type": "code",
      "source": [
        "y_pred = gnb.predict(X_test)"
      ],
      "metadata": {
        "execution": {
          "iopub.status.busy": "2024-09-05T22:22:16.806941Z",
          "iopub.execute_input": "2024-09-05T22:22:16.807786Z",
          "iopub.status.idle": "2024-09-05T22:22:18.714296Z",
          "shell.execute_reply.started": "2024-09-05T22:22:16.807744Z",
          "shell.execute_reply": "2024-09-05T22:22:18.713303Z"
        },
        "trusted": true,
        "id": "Rzlafzzd5X06"
      },
      "execution_count": null,
      "outputs": []
    },
    {
      "cell_type": "code",
      "source": [
        "accuracy = accuracy_score(y_test, y_pred)\n",
        "precision = precision_score(y_test, y_pred, average='weighted')\n",
        "recall = recall_score(y_test, y_pred, average='weighted')\n",
        "\n",
        "print(f'Accuracy: {accuracy * 100:.2f}%')\n",
        "print(f'Precision: {precision * 100:.2f}%')\n",
        "print(f'Recall: {precision * 100:.2f}%')"
      ],
      "metadata": {
        "execution": {
          "iopub.status.busy": "2024-09-05T22:24:10.34856Z",
          "iopub.execute_input": "2024-09-05T22:24:10.349435Z",
          "iopub.status.idle": "2024-09-05T22:24:10.377293Z",
          "shell.execute_reply.started": "2024-09-05T22:24:10.349386Z",
          "shell.execute_reply": "2024-09-05T22:24:10.376197Z"
        },
        "trusted": true,
        "id": "0DllG6ke5X07",
        "colab": {
          "base_uri": "https://localhost:8080/"
        },
        "outputId": "91ea640f-0bfd-4f51-d6ba-383968c755c9"
      },
      "execution_count": null,
      "outputs": [
        {
          "output_type": "stream",
          "name": "stdout",
          "text": [
            "Accuracy: 91.93%\n",
            "Precision: 92.23%\n",
            "Recall: 92.23%\n"
          ]
        }
      ]
    },
    {
      "cell_type": "markdown",
      "source": [
        "Save model"
      ],
      "metadata": {
        "id": "oPWaPs4F5X07"
      }
    },
    {
      "cell_type": "code",
      "source": [
        "converter = tf.lite.TFLiteConverter.from_concrete_functions([gnb.predict.get_concrete_function()])\n",
        "tflite_model = converter.convert()"
      ],
      "metadata": {
        "execution": {
          "iopub.status.busy": "2024-09-05T22:26:35.453537Z",
          "iopub.execute_input": "2024-09-05T22:26:35.453948Z",
          "iopub.status.idle": "2024-09-05T22:26:37.098288Z",
          "shell.execute_reply.started": "2024-09-05T22:26:35.453911Z",
          "shell.execute_reply": "2024-09-05T22:26:37.097459Z"
        },
        "trusted": true,
        "id": "kBKkOnbU5X08",
        "colab": {
          "base_uri": "https://localhost:8080/"
        },
        "outputId": "05797416-55a9-4fca-90ff-01794b4aa4a7"
      },
      "execution_count": null,
      "outputs": [
        {
          "output_type": "stream",
          "name": "stderr",
          "text": [
            "WARNING:absl:Please consider providing the trackable_obj argument in the from_concrete_functions. Providing without the trackable_obj argument is deprecated and it will use the deprecated conversion path.\n"
          ]
        }
      ]
    },
    {
      "cell_type": "code",
      "source": [
        "with open('gnb_model.tflite', 'wb') as f:\n",
        "    f.write(tflite_model)\n",
        "\n",
        "print(\"Model successfully converted to TFLite!\")"
      ],
      "metadata": {
        "execution": {
          "iopub.status.busy": "2024-09-05T22:26:52.159926Z",
          "iopub.execute_input": "2024-09-05T22:26:52.160347Z",
          "iopub.status.idle": "2024-09-05T22:26:52.166777Z",
          "shell.execute_reply.started": "2024-09-05T22:26:52.160308Z",
          "shell.execute_reply": "2024-09-05T22:26:52.165554Z"
        },
        "trusted": true,
        "id": "OtRLAcnX5X0-",
        "colab": {
          "base_uri": "https://localhost:8080/"
        },
        "outputId": "a1585e31-e43a-4107-b9c0-de71d20cb423"
      },
      "execution_count": null,
      "outputs": [
        {
          "output_type": "stream",
          "name": "stdout",
          "text": [
            "Model successfully converted to TFLite!\n"
          ]
        }
      ]
    },
    {
      "cell_type": "code",
      "source": [
        "# -------------------------------------------\n",
        "# Test d'un fichier audio avec le modèle ML\n",
        "# -------------------------------------------\n",
        "\n",
        "from pydub import AudioSegment\n",
        "import numpy as np\n",
        "\n",
        "# Charger le fichier test.wav (s'assurer qu'il est mono et en 16kHz)\n",
        "# Assurez-vous que \"1_16.wav\" existe dans le répertoire courant ou spécifiez le chemin complet\n",
        "audio = AudioSegment.from_wav(\"1_16.wav\")\n",
        "audio = audio.set_channels(1).set_frame_rate(16000)\n",
        "audio.export(\"test_converted.wav\", format=\"wav\")\n",
        "\n",
        "# Extraire les caractéristiques (MFCC)\n",
        "# La fonction extract_mfcc_features doit être définie dans une cellule précédente\n",
        "features = extract_mfcc_features(\"test_converted.wav\")\n",
        "features = np.array(features).reshape(1, -1)  # Reshape pour correspondre à l’entrée du modèle\n",
        "\n",
        "# Prédiction\n",
        "# Use the correct variable name 'gnb' instead of 'model'\n",
        "prediction = gnb.predict(features)\n",
        "\n",
        "# Afficher la prédiction\n",
        "# If you want the original class name, you'll need to inverse transform the prediction\n",
        "# Assuming 'le' (LabelEncoder) is available from previous cells\n",
        "predicted_class_index = prediction[0].numpy() # Convert TensorFlow tensor to numpy\n",
        "predicted_class_name = le.inverse_transform([predicted_class_index])[0] # Inverse transform the predicted index\n",
        "\n",
        "print(f\"Classe prédite (index) : {predicted_class_index}\")\n",
        "print(f\"Classe prédite (nom) : {predicted_class_name}\")"
      ],
      "metadata": {
        "colab": {
          "base_uri": "https://localhost:8080/"
        },
        "id": "OVBeX9U4OpQV",
        "outputId": "2abd0df7-64e5-43e8-fc88-714f884a2e9a"
      },
      "execution_count": null,
      "outputs": [
        {
          "output_type": "stream",
          "name": "stdout",
          "text": [
            "Classe prédite (index) : 6\n",
            "Classe prédite (nom) : ayman_sowaid\n"
          ]
        }
      ]
    },
    {
      "cell_type": "code",
      "source": [
        "import joblib\n",
        "\n",
        "# Sauvegarde du modèle\n",
        "joblib.dump(gnb, \"model_gnb.pkl\")\n",
        "\n",
        "# Sauvegarde du label encoder\n",
        "joblib.dump(le, \"label_encoder.pkl\")\n"
      ],
      "metadata": {
        "colab": {
          "base_uri": "https://localhost:8080/"
        },
        "id": "PgkMg1rYQLas",
        "outputId": "36039f82-9a57-4b90-8a12-2b5266f90f08"
      },
      "execution_count": null,
      "outputs": [
        {
          "output_type": "execute_result",
          "data": {
            "text/plain": [
              "['label_encoder.pkl']"
            ]
          },
          "metadata": {},
          "execution_count": 34
        }
      ]
    },
    {
      "cell_type": "code",
      "source": [
        "from google.colab import files\n",
        "\n",
        "files.download(\"model_gnb.pkl\")\n",
        "files.download(\"label_encoder.pkl\")\n",
        "files.download(\"gnb_model.tflite\")\n"
      ],
      "metadata": {
        "colab": {
          "base_uri": "https://localhost:8080/",
          "height": 17
        },
        "id": "vYD3NqeFQRDf",
        "outputId": "6b422c4f-4230-4691-fd47-4b89481676a2"
      },
      "execution_count": null,
      "outputs": [
        {
          "output_type": "display_data",
          "data": {
            "text/plain": [
              "<IPython.core.display.Javascript object>"
            ],
            "application/javascript": [
              "\n",
              "    async function download(id, filename, size) {\n",
              "      if (!google.colab.kernel.accessAllowed) {\n",
              "        return;\n",
              "      }\n",
              "      const div = document.createElement('div');\n",
              "      const label = document.createElement('label');\n",
              "      label.textContent = `Downloading \"${filename}\": `;\n",
              "      div.appendChild(label);\n",
              "      const progress = document.createElement('progress');\n",
              "      progress.max = size;\n",
              "      div.appendChild(progress);\n",
              "      document.body.appendChild(div);\n",
              "\n",
              "      const buffers = [];\n",
              "      let downloaded = 0;\n",
              "\n",
              "      const channel = await google.colab.kernel.comms.open(id);\n",
              "      // Send a message to notify the kernel that we're ready.\n",
              "      channel.send({})\n",
              "\n",
              "      for await (const message of channel.messages) {\n",
              "        // Send a message to notify the kernel that we're ready.\n",
              "        channel.send({})\n",
              "        if (message.buffers) {\n",
              "          for (const buffer of message.buffers) {\n",
              "            buffers.push(buffer);\n",
              "            downloaded += buffer.byteLength;\n",
              "            progress.value = downloaded;\n",
              "          }\n",
              "        }\n",
              "      }\n",
              "      const blob = new Blob(buffers, {type: 'application/binary'});\n",
              "      const a = document.createElement('a');\n",
              "      a.href = window.URL.createObjectURL(blob);\n",
              "      a.download = filename;\n",
              "      div.appendChild(a);\n",
              "      a.click();\n",
              "      div.remove();\n",
              "    }\n",
              "  "
            ]
          },
          "metadata": {}
        },
        {
          "output_type": "display_data",
          "data": {
            "text/plain": [
              "<IPython.core.display.Javascript object>"
            ],
            "application/javascript": [
              "download(\"download_73bfb0fd-0e65-4da2-b7f7-063508cbe167\", \"model_gnb.pkl\", 3643)"
            ]
          },
          "metadata": {}
        },
        {
          "output_type": "display_data",
          "data": {
            "text/plain": [
              "<IPython.core.display.Javascript object>"
            ],
            "application/javascript": [
              "\n",
              "    async function download(id, filename, size) {\n",
              "      if (!google.colab.kernel.accessAllowed) {\n",
              "        return;\n",
              "      }\n",
              "      const div = document.createElement('div');\n",
              "      const label = document.createElement('label');\n",
              "      label.textContent = `Downloading \"${filename}\": `;\n",
              "      div.appendChild(label);\n",
              "      const progress = document.createElement('progress');\n",
              "      progress.max = size;\n",
              "      div.appendChild(progress);\n",
              "      document.body.appendChild(div);\n",
              "\n",
              "      const buffers = [];\n",
              "      let downloaded = 0;\n",
              "\n",
              "      const channel = await google.colab.kernel.comms.open(id);\n",
              "      // Send a message to notify the kernel that we're ready.\n",
              "      channel.send({})\n",
              "\n",
              "      for await (const message of channel.messages) {\n",
              "        // Send a message to notify the kernel that we're ready.\n",
              "        channel.send({})\n",
              "        if (message.buffers) {\n",
              "          for (const buffer of message.buffers) {\n",
              "            buffers.push(buffer);\n",
              "            downloaded += buffer.byteLength;\n",
              "            progress.value = downloaded;\n",
              "          }\n",
              "        }\n",
              "      }\n",
              "      const blob = new Blob(buffers, {type: 'application/binary'});\n",
              "      const a = document.createElement('a');\n",
              "      a.href = window.URL.createObjectURL(blob);\n",
              "      a.download = filename;\n",
              "      div.appendChild(a);\n",
              "      a.click();\n",
              "      div.remove();\n",
              "    }\n",
              "  "
            ]
          },
          "metadata": {}
        },
        {
          "output_type": "display_data",
          "data": {
            "text/plain": [
              "<IPython.core.display.Javascript object>"
            ],
            "application/javascript": [
              "download(\"download_50dbb5e0-d5cf-406c-9863-10390396cc45\", \"label_encoder.pkl\", 1991)"
            ]
          },
          "metadata": {}
        }
      ]
    }
  ]
}